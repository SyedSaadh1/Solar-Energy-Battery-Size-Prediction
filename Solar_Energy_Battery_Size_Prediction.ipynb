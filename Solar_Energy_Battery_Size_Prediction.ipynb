{
  "nbformat": 4,
  "nbformat_minor": 0,
  "metadata": {
    "colab": {
      "provenance": []
    },
    "kernelspec": {
      "name": "python3",
      "display_name": "Python 3"
    },
    "language_info": {
      "name": "python"
    }
  },
  "cells": [
    {
      "cell_type": "markdown",
      "source": [
        "# Installing Libraries and Packages\n"
      ],
      "metadata": {
        "id": "7ug_HL1Jb35K"
      }
    },
    {
      "cell_type": "code",
      "source": [
        "import sys"
      ],
      "metadata": {
        "id": "z0ct1ZvAjMLp"
      },
      "execution_count": 57,
      "outputs": []
    },
    {
      "cell_type": "code",
      "source": [
        "import os"
      ],
      "metadata": {
        "id": "YFmgWtd-jPxS"
      },
      "execution_count": 58,
      "outputs": []
    },
    {
      "cell_type": "code",
      "source": [
        "from PyQt5 import QtWidgets, QtGui, QtCore"
      ],
      "metadata": {
        "id": "nn9ccHhqkZFS"
      },
      "execution_count": 59,
      "outputs": []
    },
    {
      "cell_type": "code",
      "execution_count": 60,
      "metadata": {
        "colab": {
          "base_uri": "https://localhost:8080/"
        },
        "id": "AoCGm-tzQ5DV",
        "outputId": "acfb2bb4-7bc9-4257-9ee5-e4c6642b7ce9"
      },
      "outputs": [
        {
          "output_type": "stream",
          "name": "stdout",
          "text": [
            "Requirement already satisfied: PyQt5 in /usr/local/lib/python3.10/dist-packages (5.15.9)\n",
            "Requirement already satisfied: PyQt5-sip<13,>=12.11 in /usr/local/lib/python3.10/dist-packages (from PyQt5) (12.12.2)\n",
            "Requirement already satisfied: PyQt5-Qt5>=5.15.2 in /usr/local/lib/python3.10/dist-packages (from PyQt5) (5.15.2)\n"
          ]
        }
      ],
      "source": [
        "!pip install PyQt5"
      ]
    },
    {
      "cell_type": "code",
      "source": [
        "!apt install sqlite3"
      ],
      "metadata": {
        "colab": {
          "base_uri": "https://localhost:8080/"
        },
        "id": "zaoNXaEzRHIG",
        "outputId": "338e2ad4-93dd-4ed5-8f9a-8d685231465a"
      },
      "execution_count": 61,
      "outputs": [
        {
          "output_type": "stream",
          "name": "stdout",
          "text": [
            "Reading package lists... Done\n",
            "Building dependency tree... Done\n",
            "Reading state information... Done\n",
            "sqlite3 is already the newest version (3.37.2-2ubuntu0.1).\n",
            "0 upgraded, 0 newly installed, 0 to remove and 18 not upgraded.\n"
          ]
        }
      ]
    },
    {
      "cell_type": "markdown",
      "source": [
        "### load.ui"
      ],
      "metadata": {
        "id": "tyTA1BSJcTZO"
      }
    },
    {
      "cell_type": "code",
      "source": [
        "# -*- coding: utf-8 -*-\n",
        "\n",
        "# Form implementation generated from reading ui file 'load.ui'\n",
        "#\n",
        "# Created by: PyQt5 UI code generator 5.12.1\n",
        "#\n",
        "# WARNING! All changes made in this file will be lost!\n",
        "\n",
        "from PyQt5 import QtCore, QtGui, QtWidgets\n",
        "\n",
        "\n",
        "class Ui_MainWindow(object):\n",
        "    def setupUi(self, MainWindow):\n",
        "        MainWindow.setObjectName(\"MainWindow\")\n",
        "        MainWindow.resize(502, 222)\n",
        "        MainWindow.setStyleSheet(\"font: 75 12pt \\\"MS Shell Dlg 2\\\";\\n\"\n",
        "\"color: rgb(255, 0, 0);\")\n",
        "        self.centralwidget = QtWidgets.QWidget(MainWindow)\n",
        "        self.centralwidget.setObjectName(\"centralwidget\")\n",
        "        self.pushButton = QtWidgets.QPushButton(self.centralwidget)\n",
        "        self.pushButton.setGeometry(QtCore.QRect(30, 160, 411, 31))\n",
        "        self.pushButton.setObjectName(\"pushButton\")\n",
        "        self.lineEdit_4 = QtWidgets.QLineEdit(self.centralwidget)\n",
        "        self.lineEdit_4.setGeometry(QtCore.QRect(430, 20, 51, 31))\n",
        "        self.lineEdit_4.setObjectName(\"lineEdit_4\")\n",
        "        self.label_4 = QtWidgets.QLabel(self.centralwidget)\n",
        "        self.label_4.setGeometry(QtCore.QRect(10, 20, 331, 21))\n",
        "        self.label_4.setObjectName(\"label_4\")\n",
        "        self.lineEdit_5 = QtWidgets.QLineEdit(self.centralwidget)\n",
        "        self.lineEdit_5.setGeometry(QtCore.QRect(430, 50, 51, 33))\n",
        "        self.lineEdit_5.setObjectName(\"lineEdit_5\")\n",
        "        self.lineEdit_6 = QtWidgets.QLineEdit(self.centralwidget)\n",
        "        self.lineEdit_6.setGeometry(QtCore.QRect(430, 80, 51, 33))\n",
        "        self.lineEdit_6.setObjectName(\"lineEdit_6\")\n",
        "        self.lineEdit_7 = QtWidgets.QLineEdit(self.centralwidget)\n",
        "        self.lineEdit_7.setGeometry(QtCore.QRect(430, 110, 51, 33))\n",
        "        self.lineEdit_7.setObjectName(\"lineEdit_7\")\n",
        "        self.label_6 = QtWidgets.QLabel(self.centralwidget)\n",
        "        self.label_6.setGeometry(QtCore.QRect(10, 50, 311, 21))\n",
        "        self.label_6.setObjectName(\"label_6\")\n",
        "        self.label_7 = QtWidgets.QLabel(self.centralwidget)\n",
        "        self.label_7.setGeometry(QtCore.QRect(10, 80, 321, 21))\n",
        "        self.label_7.setObjectName(\"label_7\")\n",
        "        self.label_8 = QtWidgets.QLabel(self.centralwidget)\n",
        "        self.label_8.setGeometry(QtCore.QRect(10, 110, 391, 21))\n",
        "        self.label_8.setObjectName(\"label_8\")\n",
        "        MainWindow.setCentralWidget(self.centralwidget)\n",
        "        self.statusbar = QtWidgets.QStatusBar(MainWindow)\n",
        "        self.statusbar.setObjectName(\"statusbar\")\n",
        "        MainWindow.setStatusBar(self.statusbar)\n",
        "\n",
        "        self.retranslateUi(MainWindow)\n",
        "        QtCore.QMetaObject.connectSlotsByName(MainWindow)\n",
        "\n",
        "    def retranslateUi(self, MainWindow):\n",
        "        _translate = QtCore.QCoreApplication.translate\n",
        "        MainWindow.setWindowTitle(_translate(\"MainWindow\", \"Load Profile Factors\"))\n",
        "        self.pushButton.setText(_translate(\"MainWindow\", \"Store Load Profile Factors in Data base\"))\n",
        "        self.lineEdit_4.setText(_translate(\"MainWindow\", \"0.90\"))\n",
        "        self.label_4.setText(_translate(\"MainWindow\", \"AverageLoad in KW(0.04 to 12.00)\"))\n",
        "        self.lineEdit_5.setText(_translate(\"MainWindow\", \"5.00\"))\n",
        "        self.lineEdit_6.setText(_translate(\"MainWindow\", \"1.00\"))\n",
        "        self.lineEdit_7.setText(_translate(\"MainWindow\", \"10\"))\n",
        "        self.label_6.setText(_translate(\"MainWindow\", \"PeakLoad in KW(0.50 to 40.00)\"))\n",
        "        self.label_7.setText(_translate(\"MainWindow\", \"MedianLoad in KW(0.02 to 12.00)\"))\n",
        "        self.label_8.setText(_translate(\"MainWindow\", \"Rated Photo Voltaic power in KW(3 to 25)\"))\n",
        "\n",
        "\n"
      ],
      "metadata": {
        "id": "ZypY2OV6RHBy"
      },
      "execution_count": 62,
      "outputs": []
    },
    {
      "cell_type": "markdown",
      "source": [
        "### battery.ui"
      ],
      "metadata": {
        "id": "ZC8F5RD4ccC6"
      }
    },
    {
      "cell_type": "code",
      "source": [
        "# -*- coding: utf-8 -*-\n",
        "\n",
        "# Form implementation generated from reading ui file 'battery.ui'\n",
        "#\n",
        "# Created by: PyQt5 UI code generator 5.15.4\n",
        "#\n",
        "# WARNING: Any manual changes made to this file will be lost when pyuic5 is\n",
        "# run again.  Do not edit this file unless you know what you are doing.\n",
        "\n",
        "\n",
        "from PyQt5 import QtCore, QtGui, QtWidgets\n",
        "\n",
        "\n",
        "class Ui_MainWindow(object):\n",
        "    def setupUi(self, MainWindow):\n",
        "        MainWindow.setObjectName(\"MainWindow\")\n",
        "        MainWindow.resize(514, 271)\n",
        "        MainWindow.setStyleSheet(\"font: 75 12pt \\\"MS Shell Dlg 2\\\";\\n\"\n",
        "\"color: rgb(255, 0, 0);\")\n",
        "        self.centralwidget = QtWidgets.QWidget(MainWindow)\n",
        "        self.centralwidget.setObjectName(\"centralwidget\")\n",
        "        self.pushButton = QtWidgets.QPushButton(self.centralwidget)\n",
        "        self.pushButton.setGeometry(QtCore.QRect(100, 60, 321, 31))\n",
        "        self.pushButton.setObjectName(\"pushButton\")\n",
        "        self.pushButton_2 = QtWidgets.QPushButton(self.centralwidget)\n",
        "        self.pushButton_2.setGeometry(QtCore.QRect(100, 110, 321, 31))\n",
        "        self.pushButton_2.setObjectName(\"pushButton_2\")\n",
        "        self.pushButton_3 = QtWidgets.QPushButton(self.centralwidget)\n",
        "        self.pushButton_3.setGeometry(QtCore.QRect(100, 10, 321, 31))\n",
        "        self.pushButton_3.setObjectName(\"pushButton_3\")\n",
        "        self.pushButton_5 = QtWidgets.QPushButton(self.centralwidget)\n",
        "        self.pushButton_5.setGeometry(QtCore.QRect(100, 160, 321, 31))\n",
        "        self.pushButton_5.setObjectName(\"pushButton_5\")\n",
        "        self.pushButton_6 = QtWidgets.QPushButton(self.centralwidget)\n",
        "        self.pushButton_6.setGeometry(QtCore.QRect(100, 210, 321, 31))\n",
        "        self.pushButton_6.setObjectName(\"pushButton_6\")\n",
        "        MainWindow.setCentralWidget(self.centralwidget)\n",
        "        self.statusbar = QtWidgets.QStatusBar(MainWindow)\n",
        "        self.statusbar.setObjectName(\"statusbar\")\n",
        "        MainWindow.setStatusBar(self.statusbar)\n",
        "\n",
        "        self.retranslateUi(MainWindow)\n",
        "        QtCore.QMetaObject.connectSlotsByName(MainWindow)\n",
        "\n",
        "    def retranslateUi(self, MainWindow):\n",
        "        _translate = QtCore.QCoreApplication.translate\n",
        "        MainWindow.setWindowTitle(_translate(\"MainWindow\", \"Battery Size Prediction\"))\n",
        "        self.pushButton.setText(_translate(\"MainWindow\", \"Energy Profile Factors\"))\n",
        "        self.pushButton_2.setText(_translate(\"MainWindow\", \"Create CSV\"))\n",
        "        self.pushButton_3.setText(_translate(\"MainWindow\", \"Load Profile Factors\"))\n",
        "        self.pushButton_5.setText(_translate(\"MainWindow\", \"Gaussian Naive Bayes Analysis\"))\n",
        "        self.pushButton_6.setText(_translate(\"MainWindow\", \"Bernoulli Naive Bayes Analysis\"))\n"
      ],
      "metadata": {
        "id": "ouSjRm-SReUe"
      },
      "execution_count": 63,
      "outputs": []
    },
    {
      "cell_type": "markdown",
      "source": [
        "### Gaussian Naive_Bayes (GNB)"
      ],
      "metadata": {
        "id": "AI18VDgXcttn"
      }
    },
    {
      "cell_type": "code",
      "source": [
        "from sklearn.naive_bayes import GaussianNB\n",
        "import numpy as np\n",
        "import pandas as pd\n",
        "from sklearn import *\n",
        "import numpy as np\n",
        "import pandas as pd\n",
        "from sklearn import *\n",
        "from sklearn.metrics import accuracy_score\n",
        "df = pd.read_csv('powerset.csv')\n",
        "df[\"BatterySize\"] = df[\"BatterySize\"].map({'High':2 ,'Medium':1,'Low':0})\n",
        "data = df[[\"AverageLoad\",\"PeakLoad\",\"MedianLoad\",\"RatedPVpower\",\"AnnualConsumption\",\"AccumualtedEnergy\",\"UtilizationHours\",\"InjectionHours\",\"PowerDrawn\",\"PowerInjected\",\"BatterySize\"]].to_numpy()\n",
        "inputs = data[:,:-1]\n",
        "outputs = data[:, -1]\n",
        "training_inputs = inputs[:300]\n",
        "training_outputs = outputs[:300]\n",
        "testing_inputs = inputs[300:]\n",
        "testing_outputs = outputs[300:]\n",
        "classifier = GaussianNB()\n",
        "classifier.fit(training_inputs, training_outputs)\n",
        "predictions = classifier.predict(testing_inputs)\n",
        "accuracy = 100.0 * accuracy_score(testing_outputs, predictions)\n",
        "print (\"The accuracy of GNB Classifier on testing data is: \" + str(accuracy))\n",
        "testSet = [[0.14,0.67,0.24,6,654,378,4184,3092,1.57,4]]\n",
        "test = pd.DataFrame(testSet)\n",
        "predictions = classifier.predict(test)\n",
        "print('GNBC prediction on the first test set is:',predictions)\n",
        "testSet = [[0.61,7.6,0.92,10,4513,7992,5534,2928,5.28,10.48]]\n",
        "test = pd.DataFrame(testSet)\n",
        "predictions = classifier.predict(test)\n",
        "print('GNBC prediction on the second test set is:',predictions)\n",
        "testSet = [[2.25,36.08,8.74,17,45873,26005,6599,1104,28.92,12.59]]\n",
        "test = pd.DataFrame(testSet)\n",
        "predictions = classifier.predict(test)\n",
        "print('GNBC prediction on the third test set is:',predictions)\n",
        "from sklearn.naive_bayes import GaussianNB\n",
        "import numpy as np\n",
        "import pandas as pd\n",
        "from sklearn import *\n",
        "import numpy as np\n",
        "import pandas as pd\n",
        "from sklearn import *\n",
        "from sklearn.metrics import accuracy_score\n",
        "df = pd.read_csv('powerset.csv')\n",
        "df[\"BatterySize\"] = df[\"BatterySize\"].map({'High':2 ,'Medium':1,'Low':0})\n",
        "data = df[[\"AverageLoad\",\"PeakLoad\",\"MedianLoad\",\"RatedPVpower\",\"AnnualConsumption\",\"AccumualtedEnergy\",\"UtilizationHours\",\"InjectionHours\",\"PowerDrawn\",\"PowerInjected\",\"BatterySize\"]].to_numpy()\n",
        "inputs = data[:,:-1]\n",
        "outputs = data[:, -1]\n",
        "training_inputs = inputs[:300]\n",
        "training_outputs = outputs[:300]\n",
        "testing_inputs = inputs[300:]\n",
        "testing_outputs = outputs[300:]\n",
        "classifier = GaussianNB()\n",
        "classifier.fit(training_inputs, training_outputs)\n",
        "predictions = classifier.predict(testing_inputs)\n",
        "accuracy = 100.0 * accuracy_score(testing_outputs, predictions)\n",
        "print (\"The accuracy of GNB Classifier on testing data is: \" + str(accuracy))\n",
        "testSet = [[0.14,0.67,0.24,6,654,378,4184,3092,1.57,4]]\n",
        "test = pd.DataFrame(testSet)\n",
        "predictions = classifier.predict(test)\n",
        "print('GNBC prediction on the first test set is:',predictions)\n",
        "testSet = [[0.61,7.6,0.92,10,4513,7992,5534,2928,5.28,10.48]]\n",
        "test = pd.DataFrame(testSet)\n",
        "predictions = classifier.predict(test)\n",
        "print('GNBC prediction on the second test set is:',predictions)\n",
        "testSet = [[2.25,36.08,8.74,17,45873,26005,6599,1104,28.92,12.59]]\n",
        "test = pd.DataFrame(testSet)\n",
        "predictions = classifier.predict(test)\n",
        "print('GNBC prediction on the third test set is:',predictions)\n"
      ],
      "metadata": {
        "colab": {
          "base_uri": "https://localhost:8080/"
        },
        "id": "lUAH4dMHSD6m",
        "outputId": "61bb74e2-1842-42fe-aa42-795000ab9f8d"
      },
      "execution_count": 64,
      "outputs": [
        {
          "output_type": "stream",
          "name": "stdout",
          "text": [
            "The accuracy of GNB Classifier on testing data is: 86.23910336239103\n",
            "GNBC prediction on the first test set is: [0.]\n",
            "GNBC prediction on the second test set is: [1.]\n",
            "GNBC prediction on the third test set is: [2.]\n",
            "The accuracy of GNB Classifier on testing data is: 86.23910336239103\n",
            "GNBC prediction on the first test set is: [0.]\n",
            "GNBC prediction on the second test set is: [1.]\n",
            "GNBC prediction on the third test set is: [2.]\n"
          ]
        }
      ]
    },
    {
      "cell_type": "markdown",
      "source": [
        "### Bernoulli Naive_Bayes (BNB)"
      ],
      "metadata": {
        "id": "jUVmhyKQc6rd"
      }
    },
    {
      "cell_type": "code",
      "source": [
        "from sklearn.naive_bayes import BernoulliNB\n",
        "import numpy as np\n",
        "import pandas as pd\n",
        "from sklearn import *\n",
        "from sklearn.metrics import accuracy_score\n",
        "df = pd.read_csv('powerset.csv')\n",
        "df[\"BatterySize\"] = df[\"BatterySize\"].map({'High':2 ,'Medium':1,'Low':0})\n",
        "data = df[[\"AverageLoad\",\"PeakLoad\",\"MedianLoad\",\"RatedPVpower\",\"AnnualConsumption\",\"AccumualtedEnergy\",\"UtilizationHours\",\"InjectionHours\",\"PowerDrawn\",\"PowerInjected\",\"BatterySize\"]].to_numpy()\n",
        "inputs = data[:,:-1]\n",
        "outputs = data[:, -1]\n",
        "training_inputs = inputs[:300]\n",
        "training_outputs = outputs[:300]\n",
        "testing_inputs = inputs[300:]\n",
        "testing_outputs = outputs[300:]\n",
        "classifier = BernoulliNB()\n",
        "classifier.fit(training_inputs, training_outputs)\n",
        "predictions = classifier.predict(testing_inputs)\n",
        "accuracy = 100.0 * accuracy_score(testing_outputs, predictions)\n",
        "print (\"The accuracy of BNB Classifier on testing data is: \" + str(accuracy))\n",
        "testSet = [[0.14,0.67,0.24,6,654,378,4184,3092,1.57,4]]\n",
        "test = pd.DataFrame(testSet)\n",
        "predictions = classifier.predict(test)\n",
        "print('BNBC prediction on the first test set is:',predictions)\n",
        "testSet = [[0.61,7.6,0.92,10,4513,7992,5534,2928,5.28,10.48]]\n",
        "test = pd.DataFrame(testSet)\n",
        "predictions = classifier.predict(test)\n",
        "print('BNBC prediction on the second test set is:',predictions)\n",
        "testSet = [[2.25,36.08,8.74,17,45873,26005,6599,1104,28.92,12.59]]\n",
        "test = pd.DataFrame(testSet)\n",
        "predictions = classifier.predict(test)\n",
        "print('BNBC prediction on the third test set is:',predictions)\n",
        "\n"
      ],
      "metadata": {
        "colab": {
          "base_uri": "https://localhost:8080/"
        },
        "id": "rn3MRBvWSbeX",
        "outputId": "02f4569d-ce8b-4aee-ab4a-0fea07e378d5"
      },
      "execution_count": 65,
      "outputs": [
        {
          "output_type": "stream",
          "name": "stdout",
          "text": [
            "The accuracy of BNB Classifier on testing data is: 36.3013698630137\n",
            "BNBC prediction on the first test set is: [2.]\n",
            "BNBC prediction on the second test set is: [2.]\n",
            "BNBC prediction on the third test set is: [2.]\n"
          ]
        }
      ]
    }
  ]
}